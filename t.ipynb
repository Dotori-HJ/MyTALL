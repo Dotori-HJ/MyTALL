{
 "cells": [
  {
   "cell_type": "code",
   "execution_count": 9,
   "metadata": {},
   "outputs": [],
   "source": [
    "import json\n",
    "\n",
    "with open(\"data/thumos14/annotations/val.json\") as f:\n",
    "    val = json.load(f)\n",
    "\n",
    "with open(\"data/thumos14/annotations/test.json\") as f:\n",
    "    test = json.load(f)"
   ]
  },
  {
   "cell_type": "code",
   "execution_count": 10,
   "metadata": {},
   "outputs": [],
   "source": [
    "for name in val['database'].keys():\n",
    "    annos = val['database'][name]['annotations']\n",
    "    new_annos = []\n",
    "    for anno in annos:\n",
    "        if anno['label'] == 'Ambiguous':\n",
    "            continue\n",
    "\n",
    "        new_annos.append(anno)\n",
    "    val['database'][name]['annotations'] = new_annos\n",
    "\n",
    "\n",
    "for name in test['database'].keys():\n",
    "    annos = test['database'][name]['annotations']\n",
    "    new_annos = []\n",
    "    for anno in annos:\n",
    "        if anno['label'] == 'Ambiguous':\n",
    "            continue\n",
    "\n",
    "        new_annos.append(anno)\n",
    "    test['database'][name]['annotations'] = new_annos\n"
   ]
  },
  {
   "cell_type": "code",
   "execution_count": 11,
   "metadata": {},
   "outputs": [],
   "source": [
    "data = dict()\n",
    "data.update(val)\n",
    "data['database'].update(test['database'])"
   ]
  },
  {
   "cell_type": "code",
   "execution_count": 13,
   "metadata": {},
   "outputs": [
    {
     "data": {
      "text/plain": [
       "dict_keys(['database', 'taxonomy', 'version'])"
      ]
     },
     "execution_count": 13,
     "metadata": {},
     "output_type": "execute_result"
    }
   ],
   "source": [
    "data.keys()"
   ]
  },
  {
   "cell_type": "code",
   "execution_count": 15,
   "metadata": {},
   "outputs": [],
   "source": [
    "names = list(data['database'].keys())"
   ]
  },
  {
   "cell_type": "code",
   "execution_count": 14,
   "metadata": {},
   "outputs": [
    {
     "data": {
      "text/plain": [
       "dict_keys(['annotations', 'duration', 'resolution', 'subset'])"
      ]
     },
     "execution_count": 14,
     "metadata": {},
     "output_type": "execute_result"
    }
   ],
   "source": [
    "name = list(data['database'].keys())[0]\n",
    "data['database'][name].keys()"
   ]
  }
 ],
 "metadata": {
  "kernelspec": {
   "display_name": "base",
   "language": "python",
   "name": "python3"
  },
  "language_info": {
   "codemirror_mode": {
    "name": "ipython",
    "version": 3
   },
   "file_extension": ".py",
   "mimetype": "text/x-python",
   "name": "python",
   "nbconvert_exporter": "python",
   "pygments_lexer": "ipython3",
   "version": "3.9.13"
  },
  "orig_nbformat": 4,
  "vscode": {
   "interpreter": {
    "hash": "ede290b486faef995a1df5944c909b0b6053f6be932e687837ca7c9d33119b13"
   }
  }
 },
 "nbformat": 4,
 "nbformat_minor": 2
}
